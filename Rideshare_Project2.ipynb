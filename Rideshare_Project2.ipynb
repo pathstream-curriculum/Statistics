{
  "nbformat": 4,
  "nbformat_minor": 0,
  "metadata": {
    "colab": {
      "name": "Rideshare_Project2.ipynb",
      "provenance": [],
      "private_outputs": true,
      "collapsed_sections": [],
      "include_colab_link": true
    },
    "language_info": {
      "codemirror_mode": {
        "name": "ipython",
        "version": 3
      },
      "file_extension": ".py",
      "mimetype": "text/x-python",
      "name": "python",
      "nbconvert_exporter": "python",
      "pygments_lexer": "ipython3",
      "version": "3.6.8"
    },
    "kernelspec": {
      "name": "python3",
      "display_name": "Python 3"
    }
  },
  "cells": [
    {
      "cell_type": "markdown",
      "metadata": {
        "id": "view-in-github",
        "colab_type": "text"
      },
      "source": [
        "<a href=\"https://colab.research.google.com/github/pathstream-curriculum/Statistics/blob/master/Rideshare_Project2.ipynb\" target=\"_parent\"><img src=\"https://colab.research.google.com/assets/colab-badge.svg\" alt=\"Open In Colab\"/></a>"
      ]
    },
    {
      "cell_type": "markdown",
      "metadata": {
        "id": "NbHgrZs86Y6e",
        "colab_type": "text"
      },
      "source": [
        "# Rideshare Project Part 2\n",
        "<img src=\"https://data.cityofchicago.org/api/assets/73F1665C-0FE6-4183-8AD1-E91DB8EFAFA4?7CB02402-8E06-48B0-8C9A-3890182D58C7.png\" width=400 alt=\"Drawing\" style=\"width: 200px;\"/>\n",
        "\n",
        "The city of Chicago has hired you as an analyst to dive into their recently published a dataset containing detailed information about all rides taken with rideshare providers like Uber and Lyft in Chicago and surrounding areas From November 2018 through March 2019.\n",
        "\n",
        "The dataset you'll be investigating in this notebook is the same one you looked at in the Google Sheets lab, comprising two weeks worth of data from Dec. 21, 2018 to Jan. 3, 2019. This dataset has been downsampled by a factor of 500 to reduce the size, meaning that only one of every 500 records (selected randomly) from this time period in the original dataset is included here.  \n",
        "\n",
        "*Note: Some columns of unnessary or redundant information have been removed from the original data set and columns for Year, Month, Weekday and Hour of Day have been added for convenience. The original published data was anonymized by rounding off dollar amounts and times of day. To make the data more realistic looking we have added random noise to the Fare, Tip, Latitude and Longitude columns.*\n",
        "\n",
        "***The first few steps of this project (reading in the data, removing null values and investigating descriptive statistics) are the same as for part 1 of this project.***\n"
      ]
    },
    {
      "cell_type": "markdown",
      "metadata": {
        "id": "Jkg2vArJeZbO",
        "colab_type": "text"
      },
      "source": [
        "## Saving Material from this Lab for your Final Report\n",
        "As you go through this lab, you'll encounter questions that are meant to get you thinking about the interpretation of each step of analysis. You can double click on any text cell to edit directly as a way of taking notes, or you can take notes elsewhere. To save visuals or other outputs of the code you should take a screenshot (Holding down \"Command-Shift-4\" on Mac or using the \"Snipping Tool\" in Windows).\n",
        "\n",
        "\n",
        "Ultimately, the final report you compile in a Google doc should include your interpretations (text) and screenshots of the relevant code outputs. You can always come back to this notebook later to take more screenshots or remind yourself of the interpretation questions."
      ]
    },
    {
      "cell_type": "markdown",
      "metadata": {
        "id": "W72M87E7emaG",
        "colab_type": "text"
      },
      "source": [
        "## Objectives for this Python lab:\n",
        "Some of the steps you will complete in this lab are effectively the same as you did in the Sheets lab, but now in a Python environment. Other steps are completely new. The overlap between this lab and the previous Sheets lab is intended to show you how some things work in Python that you're already familiar with in Sheets, and the new steps are to demonstrate where Python allows you to easily do things that would be very difficult or impossible in Sheets. Here are your objectives for this lab:\n",
        "\n",
        "1. Read in the dataset and compute summary statistics.\n",
        "\n",
        "2. Compute and investigate new columns of data.\n",
        "\n",
        "3. Compute and interpret confidence intervals for driver income.\n",
        "\n",
        "The code for all these objectives is already written for you. All you need to do is press \"Shift+Enter\" on your keboard after selecting each cell to run the code. <mark>Be sure to run all the cells in order because some of the steps need to happen in a sequence</mark>. At a few points we give suggestions for making simple modifications to the code. Feel free to experiment with more if you're feeling curious!"
      ]
    },
    {
      "cell_type": "markdown",
      "metadata": {
        "id": "BUmdnS4e6Y6g",
        "colab_type": "text"
      },
      "source": [
        "### Objective 1: Read in the dataset and compute summary statistics.\n",
        "\n",
        "**1.1 Investigate the data source (if you haven't already).**\n",
        "\n",
        "As always, a great first step before you jump into your analysis is to check out the source of your data. You can find out more about this exciting dataset [here](https://data.cityofchicago.org/Transportation/Transportation-Network-Providers-Trips/m6dm-c72p/data)."
      ]
    },
    {
      "cell_type": "markdown",
      "metadata": {
        "id": "HUwzfAn3s3xN",
        "colab_type": "text"
      },
      "source": [
        "**1.2 Import all the relevant Python packages.**\n",
        "\n",
        "Run the next cell to import Python packages"
      ]
    },
    {
      "cell_type": "code",
      "metadata": {
        "colab_type": "code",
        "id": "QXxOSeuDf4nd",
        "colab": {}
      },
      "source": [
        "# Import the pandas library for reading and manipulating your data\n",
        "# Anywhere you see \"pd\" in this notebook it's a reference to the pandas library\n",
        "import pandas as pd\n",
        "# Extra step to ensure that pandas plays nice with matplotlib\n",
        "pd.plotting.register_matplotlib_converters()\n",
        "# Import the numpy library for running calculations on your data\n",
        "# Anywhere you see \"np\" in this notebook it's a reference to the numpy library\n",
        "import numpy as np\n",
        "# Import some components of the matplotlib library for plotting your data\n",
        "# Anywhere you see \"plt\" or \"mpimg\" in this notebook it's a reference to the \"pyplot\" and \"image\" packages from matplotlib\n",
        "import matplotlib.pyplot as plt\n",
        "import matplotlib.image as mpimg\n",
        "# Import seaborn library for making your plots pretty!\n",
        "# Anywhere you see \"sns\" in this notebook it's a reference to the seaborn library\n",
        "import seaborn as sns\n",
        "# Set some default plotting parameters using seaborn\n",
        "sns.set()\n"
      ],
      "execution_count": 0,
      "outputs": []
    },
    {
      "cell_type": "markdown",
      "metadata": {
        "colab_type": "text",
        "id": "eDMdfUF8f4nl"
      },
      "source": [
        "**1.3 Read in the dataset.**\n",
        "\n",
        "With the code below, you will use the `pandas` code library to read a csv (comma separated value) file containing your data into an object called \"`df`\". In this case, `df` is short for dataframe, which is a type of object used for storing rows and columns of data.\n",
        "\n",
        "Run the following cell (select and press play or \"Shift+Enter\" on the keyboard) to complete this step. \n",
        "\n"
      ]
    },
    {
      "cell_type": "code",
      "metadata": {
        "colab_type": "code",
        "id": "IZ0yFkTIf4nm",
        "colab": {}
      },
      "source": [
        "# Read the data into a dataframe called \"df\".\n",
        "url = \"https://raw.githubusercontent.com/pathstream-curriculum/Statistics/master/rideshare_holidays.csv\"\n",
        "df = pd.read_csv(url, parse_dates=['Trip Start Timestamp', 'Trip End Timestamp'])"
      ],
      "execution_count": 0,
      "outputs": []
    },
    {
      "cell_type": "markdown",
      "metadata": {
        "colab_type": "text",
        "id": "NnRTT-Ygf4np"
      },
      "source": [
        "**1.4 Inspect the dataset.**\n",
        "\n",
        "Run the following cell to look at the column names and first few rows of your data. Be sure to scroll to the right to see all the columns. \n",
        "\n",
        "You can explore the [city of Chicago website for this dataset](https://data.cityofchicago.org/Transportation/Transportation-Network-Providers-Trips/m6dm-c72p/data) further to learn more about each column."
      ]
    },
    {
      "cell_type": "code",
      "metadata": {
        "colab_type": "code",
        "id": "7zHzWH8cf4nq",
        "colab": {}
      },
      "source": [
        "# Print the column names and first five rows of the dataset contained in df\n",
        "# Note: to look at more than 5 rows just enter a number in the parentheses e.g., \"df.head(10)\"\n",
        "df.head()"
      ],
      "execution_count": 0,
      "outputs": []
    },
    {
      "cell_type": "code",
      "metadata": {
        "id": "9KnYD_dMbq1J",
        "colab_type": "code",
        "colab": {}
      },
      "source": [
        "df.tail()"
      ],
      "execution_count": 0,
      "outputs": []
    },
    {
      "cell_type": "markdown",
      "metadata": {
        "colab_type": "text",
        "id": "xgyHMIoOf4n1"
      },
      "source": [
        "**1.4 Explore column data types and the presence of null / missing values.**\n",
        "\n",
        "In the cells below, running `df.shape` prints out the shape of the dataset and `df.info()` prints out each column name along with the total number of non-null values in that column and its data type. Investigate the output and see what you find!"
      ]
    },
    {
      "cell_type": "code",
      "metadata": {
        "id": "pTZ2DWaWw-Ws",
        "colab_type": "code",
        "colab": {}
      },
      "source": [
        "# Display the shape of this dataset\n",
        "df.shape"
      ],
      "execution_count": 0,
      "outputs": []
    },
    {
      "cell_type": "code",
      "metadata": {
        "colab_type": "code",
        "id": "ENmQ_SgHf4n4",
        "colab": {}
      },
      "source": [
        "# Print information about the total number of non-null values and data types in each column of your dataframe\n",
        "df.info()"
      ],
      "execution_count": 0,
      "outputs": []
    },
    {
      "cell_type": "markdown",
      "metadata": {
        "colab_type": "text",
        "id": "RTz3izlYf4oB"
      },
      "source": [
        "**1.5 Handle missing values**\n",
        "\n",
        " If there are null/missing values in your data, you will sometimes want to eliminate those rows from the dataset, or change them to an acceptable value. In some cases, null values may be interesting to explore further. For this project, you can choose to simply leave the null values alone or remove records with null values. \n",
        "\n",
        "---\n",
        "\n",
        "If you want to remove all records containing null values, make a note of why you've decided to do this and then run the next cell after removing the \"#\" from the beginning of the line that says `df.dropna(inplace=True)` to drop all rows containing null values. If you choose not to remove missing values you can skip the next cell. "
      ]
    },
    {
      "cell_type": "code",
      "metadata": {
        "colab_type": "code",
        "id": "Z90ssLqhf4oC",
        "colab": {}
      },
      "source": [
        "# Remove all rows that contain any null values\n",
        "#df.dropna(inplace=True) \n",
        "# Print information about the total number of non-null values and data types in each column of your dataframe\n",
        "#df.info()"
      ],
      "execution_count": 0,
      "outputs": []
    },
    {
      "cell_type": "markdown",
      "metadata": {
        "colab_type": "text",
        "id": "zdmHzvqFf4oH"
      },
      "source": [
        "**1.6 Investigate summary statistics.**\n",
        "\n",
        "Run the cell below to compute and display summary statistics for your dataset. The output will be a table containing the count, mean, standard deviation, min, max and 25%, 50% (median) and 75% (Q1-Q3) quartiles for all columns. "
      ]
    },
    {
      "cell_type": "code",
      "metadata": {
        "colab_type": "code",
        "id": "J-X_Qb6Df4oI",
        "colab": {}
      },
      "source": [
        "# Print out summary statistics for all columns\n",
        "df.describe()"
      ],
      "execution_count": 0,
      "outputs": []
    },
    {
      "cell_type": "markdown",
      "metadata": {
        "id": "5TsuvFWG--XP",
        "colab_type": "text"
      },
      "source": [
        "## Objective 2: Compute and investigate new columns of data.\n",
        "In the first part of this project (previous colab notebook), you looked at summary statistics and interpreted a range of different visual representations of your dataset to uncover insights and anomalies. In this part of the project, you'll calculate new columns for your dataframe to derive further insights into the data. \n",
        "\n",
        "While the data contained in the original dataset around how long a trip took, how many miles were covered or how much the fare was are interesting in their own right, you'll now combine these columns to compute metrics that are much more relevant to drivers, namely, how fast a trip was in terms of miles per hour and how much the driver made in terms of dollars per hour. "
      ]
    },
    {
      "cell_type": "markdown",
      "metadata": {
        "id": "W4dPcmV2ZA1T",
        "colab_type": "text"
      },
      "source": [
        "\n",
        "\n",
        "### 2.1 Calculate a new column called \"Hourly Income\".\n",
        "You've looked at things like how geographical location might be related to tips, which days of the week and hours of the day are more or less popular than others for riders, but surely one of the most fundamental metrics for drivers is how much money they can expect to make in a given timeframe. \n",
        "\n",
        "While you don't have information that would allow you to track individual drivers over time, you do have information on total fare and trip time so you can calculate a basic hourly income rate per ride and look at how that varies against other metrics. You'll calculate hourly income like this:\n",
        "```\n",
        "trip_hours = df['Trip Seconds'] / 3600\n",
        "fare_fraction = 0.75\n",
        "hourly_fraction = 0.5\n",
        "Hourly Income = hourly_fraction*(fare_fraction*df['Fare'] + df['Tip']) / Trip Hours\n",
        "```\n",
        "The `fare_fraction` of 0.75 is to account for the fact that rideshare companies typically keep ~25% of the fare. Multiplying by an `hourly_fraction` of 0.5 is to account for the fact that drivers are typically only completing a ride 50% of the time they spend in the car (i.e., half the time they are working they don't have someone in the car).\n",
        "\n",
        "Run the following code cell to add the \"Hourly Income\" column to your dataframe\n",
        "\n",
        "Note: this cell will not produce any output"
      ]
    },
    {
      "cell_type": "code",
      "metadata": {
        "id": "b2vY3F1vc60D",
        "colab_type": "code",
        "colab": {}
      },
      "source": [
        "# Compute an hourly income rate per trip and add the column to your dataframe\n",
        "trip_hours = df['Trip Seconds']/3600 # convert seconds to hours\n",
        "fare_fraction = 0.75 # to account for rideshare companies keeping 25% of fare\n",
        "hourly_fraction = 0.5 # to account for an average of 50% time without riders in the car\n",
        "df['Hourly Income'] = round(hourly_fraction*(fare_fraction*df['Fare'] + df['Tip'])/trip_hours, 2)"
      ],
      "execution_count": 0,
      "outputs": []
    },
    {
      "cell_type": "markdown",
      "metadata": {
        "id": "Nomb7vl1WHi9",
        "colab_type": "text"
      },
      "source": [
        "### 2.2 Investigate Hourly Income.\n",
        "Run the next cell to look at the first few rows of the dataframe and scroll all the way to the right to see the new \"Hourly Income\" column you created."
      ]
    },
    {
      "cell_type": "code",
      "metadata": {
        "id": "-ii3zJvuWUb5",
        "colab_type": "code",
        "colab": {}
      },
      "source": [
        "# Print the column names and first five rows of the dataset contained in df\n",
        "# Note: to look at more than 5 rows just enter a number in the parentheses e.g., \"df.head(10)\"\n",
        "df.head()"
      ],
      "execution_count": 0,
      "outputs": []
    },
    {
      "cell_type": "markdown",
      "metadata": {
        "id": "O1Zpng6iSBmU",
        "colab_type": "text"
      },
      "source": [
        "Run the next cell to compute summary statistics on the \"Hourly Income\" column."
      ]
    },
    {
      "cell_type": "code",
      "metadata": {
        "id": "tehhzBNhfui5",
        "colab_type": "code",
        "colab": {}
      },
      "source": [
        "# Have a quick look at the summary statistics for this new column\n",
        "df['Hourly Income'].describe()"
      ],
      "execution_count": 0,
      "outputs": []
    },
    {
      "cell_type": "markdown",
      "metadata": {
        "id": "grZN6ajASJV9",
        "colab_type": "text"
      },
      "source": [
        "The median hourly income of $17/hour is actually higher than most estimates from larger studies that have been done. If you're curious, have a look at [this report](https://www.ridester.com/how-much-do-uber-drivers-make/) to learn more about how much Uber drivers actually make in various locations around the U.S.\n",
        "\n",
        "Run the following cell to generate boxplots showing the 5-number summary for \"Hourly Income\" vs. \"Weekday\" and \"Hour of Day\"."
      ]
    },
    {
      "cell_type": "code",
      "metadata": {
        "id": "vTKAuLIddgva",
        "colab_type": "code",
        "colab": {}
      },
      "source": [
        "# Plot boxplots for hourly income rate as a function of day of week and time of day\n",
        "plt.figure(figsize=(20,5))\n",
        "# Indicate you want the weekday boxplot on the left with the plt.subplot() routine\n",
        "plt.subplot(1, 2, 1)\n",
        "# Create boxplots for hourly income vs. day of the week\n",
        "sns.boxplot(x='Weekday', \n",
        "            y='Hourly Income', \n",
        "            data=df, \n",
        "            color='r') # Set color to pale red just for fun!\n",
        "# Indicate you want the hourly boxplot on the right with the plt.subplot() routine\n",
        "plt.subplot(1, 2, 2)\n",
        "# Create boxplots of hourly income vs. hour of the day.\n",
        "sns.boxplot(x='Hour of Day', \n",
        "            y='Hourly Income', \n",
        "            data=df,\n",
        "            color='r')\n",
        "plt.show()"
      ],
      "execution_count": 0,
      "outputs": []
    },
    {
      "cell_type": "markdown",
      "metadata": {
        "id": "dEF6PbXyfyUG",
        "colab_type": "text"
      },
      "source": [
        "### Questions:\n",
        "1. Do you find anything surprising about the summary statistics or boxplot displays of \"Hourly Income\"?\n",
        "2. Does it look like hourly income rate changes much as a function of day of the week or time of day?\n",
        "3. It looks like some rides generate a very high hourly income rate... is there any indication that these higher hourly income rides are more common in some days of the week or hours of the day?"
      ]
    },
    {
      "cell_type": "markdown",
      "metadata": {
        "id": "iKJMY80jSoW9",
        "colab_type": "text"
      },
      "source": [
        "### 2.3 Dig deeper into high hourly income rates.\n",
        "While it looks like drivers are typically making about \\$17 an hour, there are some cases where they're making a lot more. Next, you'll take a look at rides where the hourly income rate is greater than \\$50/hour."
      ]
    },
    {
      "cell_type": "code",
      "metadata": {
        "id": "b7dlo2aYTbWy",
        "colab_type": "code",
        "colab": {}
      },
      "source": [
        "# Isolate rides where hourly income was high\n",
        "df_high = df[df['Hourly Income'] > 50]\n",
        "# Compute summary statistics for high hourly income rides\n",
        "df_high.describe()"
      ],
      "execution_count": 0,
      "outputs": []
    },
    {
      "cell_type": "markdown",
      "metadata": {
        "id": "yWELqUgQUul3",
        "colab_type": "text"
      },
      "source": [
        "Run the next cell to again print out the summary statistics for the full dataframe so you can compare with the high hourly income records above."
      ]
    },
    {
      "cell_type": "code",
      "metadata": {
        "id": "ayeO__mOTia8",
        "colab_type": "code",
        "colab": {}
      },
      "source": [
        "# Reprint summary statistics for the entire dataset for comparison\n",
        "df.describe()"
      ],
      "execution_count": 0,
      "outputs": []
    },
    {
      "cell_type": "markdown",
      "metadata": {
        "id": "DNyywosrU63y",
        "colab_type": "text"
      },
      "source": [
        "### Questions \n",
        "1. What columns look significantly different in terms of the summary statistics for high hourly income rides vs. the entire dataset?\n",
        "2. In what ways are high income rides different from the typical rides in the full data set?\n",
        "3. Can you think of other ways in which you could explore the higher hourly income rides?"
      ]
    },
    {
      "cell_type": "markdown",
      "metadata": {
        "id": "rqzTIYsjXK3q",
        "colab_type": "text"
      },
      "source": [
        "### 2.4 Compute and investigate the speed of rides in miles per hour.\n",
        "Some drivers prefer to work when traffic is light, while others don't mind driving at rush hour. In this step, you'll use the \"Trip Miles\" and \"Trip Seconds\" columns to compute \"Trip Speed\" in miles per hour. \n",
        "\n",
        "Run the following cell to perform this step."
      ]
    },
    {
      "cell_type": "code",
      "metadata": {
        "id": "rA8D3AxAXzAc",
        "colab_type": "code",
        "colab": {}
      },
      "source": [
        "# Compute trip speed in miles per hour and add the column to your dataframe\n",
        "df['Trip Speed'] = round(df['Trip Miles'] / (df['Trip Seconds']/3600), 1)"
      ],
      "execution_count": 0,
      "outputs": []
    },
    {
      "cell_type": "markdown",
      "metadata": {
        "id": "fIs5NQslXm2q",
        "colab_type": "text"
      },
      "source": [
        "Run the next cell to print out the first few rows of the dataframe and scroll all the way to the right to see your new \"Trip Speed\" column."
      ]
    },
    {
      "cell_type": "code",
      "metadata": {
        "id": "sCbKQZQ4Xz4_",
        "colab_type": "code",
        "colab": {}
      },
      "source": [
        "# Print the column names and first five rows of the dataset contained in df\n",
        "# Note: to look at more than 5 rows just enter a number in the parentheses e.g., \"df.head(10)\"\n",
        "df.head()"
      ],
      "execution_count": 0,
      "outputs": []
    },
    {
      "cell_type": "markdown",
      "metadata": {
        "id": "ybU_wQMVYPJk",
        "colab_type": "text"
      },
      "source": [
        "Run the next cell to compute summary statistics for the new \"Trip Speed\" column"
      ]
    },
    {
      "cell_type": "code",
      "metadata": {
        "id": "KTNvc-TvYUHB",
        "colab_type": "code",
        "colab": {}
      },
      "source": [
        "# Have a quick look at the summary statistics for this new column\n",
        "df['Trip Speed'].describe()"
      ],
      "execution_count": 0,
      "outputs": []
    },
    {
      "cell_type": "markdown",
      "metadata": {
        "id": "bKUCn6FlY_pd",
        "colab_type": "text"
      },
      "source": [
        "Run the following cell to generate boxplots showing the 5-number summary for \"Trip Speed\" vs. day of the week and hour of the day."
      ]
    },
    {
      "cell_type": "code",
      "metadata": {
        "id": "0CaXgUa5eKIP",
        "colab_type": "code",
        "colab": {}
      },
      "source": [
        "# Plot boxplots for Trip Speed as a function of day of week and time of day\n",
        "plt.figure(figsize=(20,5))\n",
        "# Indicate you want the weekday boxplot on the left with the plt.subplot() routine\n",
        "plt.subplot(1, 2, 1)\n",
        "# Create boxplots for trip speed vs. day of the week\n",
        "sns.boxplot(x='Weekday', \n",
        "            y='Trip Speed', \n",
        "            data=df,\n",
        "            color='orange') #Set color to orange just for fun!\n",
        "# Limit the y-axis to a fixed range\n",
        "plt.ylim(0, 60)\n",
        "# Indicate you want the hourly boxplot on the right with the plt.subplot() routine\n",
        "plt.subplot(1, 2, 2)\n",
        "# Create boxplots of trip speed vs. hour of the day.\n",
        "sns.boxplot(x='Hour of Day', \n",
        "            y='Trip Speed', \n",
        "            data=df,\n",
        "            color='orange')\n",
        "# Limit the y-axis to a fixed range\n",
        "plt.ylim(0, 60)\n",
        "plt.show()"
      ],
      "execution_count": 0,
      "outputs": []
    },
    {
      "cell_type": "markdown",
      "metadata": {
        "id": "MPH2oZoZZG_p",
        "colab_type": "text"
      },
      "source": [
        "### Questions:\n",
        "1. What insights can you derive from the summary statistics or boxplot displays of \"Trip Speed\"?\n",
        "2. What time of day are rides the fastest? What about day of the week?\n",
        "\n",
        "### 2.5 Compare Trip Speed and Hourly Income.\n",
        "It might seem logical that if a trip is taken at a higher speed, then all things being equal, it should take less time and generate a higher hourly income rate, but is it really the case?\n",
        "\n",
        "Run the next cell to plot Trip Speed vs Hourly Income and finds out!"
      ]
    },
    {
      "cell_type": "code",
      "metadata": {
        "id": "8YSgKkGvZ45l",
        "colab_type": "code",
        "colab": {}
      },
      "source": [
        "# Plot Hourly Income vs. Trip Speed\n",
        "plt.figure(figsize=(10,7))\n",
        "# Create a scatterplot to display the data\n",
        "sns.scatterplot(x='Trip Speed', \n",
        "                y='Hourly Income', \n",
        "                data=df, \n",
        "                alpha=0.4, # Make points semi-transparent\n",
        "                s=20)      # Set size=20 to make points smaller than default\n",
        "# Limit the x and y-axes to a fixed range\n",
        "plt.ylim(0, 75)\n",
        "plt.xlim(0, 60)\n",
        "plt.show()"
      ],
      "execution_count": 0,
      "outputs": []
    },
    {
      "cell_type": "markdown",
      "metadata": {
        "id": "ej8YQkIMjHEd",
        "colab_type": "text"
      },
      "source": [
        "### Questions: \n",
        "1. Does it look to you like Trip Speed and Hourly Income are related? Or in other words, do higher trip speeds typically yield higher hourly income?\n"
      ]
    },
    {
      "cell_type": "markdown",
      "metadata": {
        "id": "KxQYGz1zcqWv",
        "colab_type": "text"
      },
      "source": [
        "### 2.6 Isolate rides which are high-speed and high-income and map them geographically.\n",
        "\n",
        "<img src=\"https://pathstream-data-analytics.s3-us-west-2.amazonaws.com/high_speed_high_income2.png\" width = \"400\" />\n",
        "\n",
        "Run the following cell to isolate high-speed, high-income rides."
      ]
    },
    {
      "cell_type": "code",
      "metadata": {
        "id": "iXANvvmYlNtC",
        "colab_type": "code",
        "colab": {}
      },
      "source": [
        "# Create a new dataframe (called df_hshi for high-speed, high-income)\n",
        "df_hshi = df[(df['Trip Speed'] > 30) & (df['Hourly Income'] > 20)]"
      ],
      "execution_count": 0,
      "outputs": []
    },
    {
      "cell_type": "markdown",
      "metadata": {
        "id": "FVNIdMwBlP3l",
        "colab_type": "text"
      },
      "source": [
        "Run the next cell to visualize six dimensions of your data at once! In this cell, you are plotting selected high-speed, high-income rides as a function of geographical location (latitude and longitude), where the size of points indicate the \"Total Fare\" for each ride and the color indicates the \"Hour of Day\" the ride was taken. "
      ]
    },
    {
      "cell_type": "code",
      "metadata": {
        "id": "VvfJhe3HinWL",
        "colab_type": "code",
        "colab": {}
      },
      "source": [
        "# Plot the location of high-speed, high-income rides, where point size represents Fare and color indicates Hour of Day\n",
        "plt.figure(figsize=(14, 8))\n",
        "# Indicate you want the first plot on the left with the plt.subplot() routine\n",
        "plt.subplot(1, 2, 1)\n",
        "# Create a scatter plot of longitude vs. latitude from the df_hshi dataframe\n",
        "sns.scatterplot(x = 'Pickup Centroid Longitude', \n",
        "                y = 'Pickup Centroid Latitude', \n",
        "                data = df_hshi,\n",
        "                s = df_hshi['Trip Total']*7, # Set the size of points to correspond to the \"Trip Total\" value\n",
        "                alpha=0.4,                   # Make points semi-transparent\n",
        "                hue = df_hshi['Hour of Day'],# Set color to correspond to \"Hour of Day\"\n",
        "                palette = 'copper_r')        # Choose a color palette (see https://seaborn.pydata.org/tutorial/color_palettes.html)\n",
        "\n",
        "# Add a plot title\n",
        "plt.title('High-Speed (mph > 30) & High-Income ($/hr > 20) rides\\n (point size indicates total fare, color shows time of day)', fontsize=15)\n",
        "\n",
        "# Read in a map image of Chicago and display next to the plots\n",
        "plt.subplot(1, 2, 2)\n",
        "url = \"https://raw.githubusercontent.com/pathstream-curriculum/Statistics/master/600px-Integrated_Chicago_districts_map.png\"\n",
        "img = mpimg.imread(url)\n",
        "plt.imshow(img)\n",
        "plt.title('Map of Chicago')\n",
        "plt.show()"
      ],
      "execution_count": 0,
      "outputs": []
    },
    {
      "cell_type": "markdown",
      "metadata": {
        "id": "8-t4ioZLr0Ld",
        "colab_type": "text"
      },
      "source": [
        "### Questions: \n",
        "1. What can you learn about high-speed, high-income rides from the figure above?\n",
        "2. Does it look like any location or time of day might be better than another for these more desirable rides?\n"
      ]
    },
    {
      "cell_type": "markdown",
      "metadata": {
        "id": "T-tPH66XV7lL",
        "colab_type": "text"
      },
      "source": [
        "## Objective 3: Compute confidence intervals for driver income\n",
        "Thus far in your exploratory data analysis you've uncovered lots of insights and reported on everything from tips and fares to hourly usage and the speed of rides. Now it's time to explore the uncertainty in those numbers.\n",
        "\n"
      ]
    },
    {
      "cell_type": "markdown",
      "metadata": {
        "id": "oYXZQc6ufk0b",
        "colab_type": "text"
      },
      "source": [
        "### 3.1 Compute the mean of driver hourly income and convert to annual income for full-time drivers.\n",
        "\n",
        "Suppose you are asked to report the typical hourly income drivers can expect to be making. You begin by writing the code in the following cell to compute this value. \n",
        "\n",
        "Run the cell below to compute the average hourly income.\n"
      ]
    },
    {
      "cell_type": "code",
      "metadata": {
        "id": "tcb5buwreyZ6",
        "colab_type": "code",
        "colab": {}
      },
      "source": [
        "# Compute the mean hourly income and round to the nearest penny\n",
        "mean_income = df['Hourly Income'].mean()\n",
        "print(f'The average hourly income for drivers is: ${mean_income:.2f}')"
      ],
      "execution_count": 0,
      "outputs": []
    },
    {
      "cell_type": "markdown",
      "metadata": {
        "id": "j02-2kTOjPb5",
        "colab_type": "text"
      },
      "source": [
        "\n",
        "### Questions:\n",
        "1. Does the number above for average hourly income seem like a reasonable estimate? \n",
        "2. In other words, would you be confident in telling a new driver that this is what they should expect to make on a typical ride? Why or why not?\n",
        "3. What is your uncertainty in this value for average hourly income? "
      ]
    },
    {
      "cell_type": "markdown",
      "metadata": {
        "id": "WzyXMuZaddcU",
        "colab_type": "text"
      },
      "source": [
        "Your task to report driver annual income to estimate the long term economic impact of rideshare activity in the city of Chicago. If you assume that a full-time driver completes rides totalling 40 hours of delivering passengers to their destination each week and takes two weeks off per year, what would be their annual income?\n",
        "\n",
        "To answer this question you code up the following cell. \n",
        "\n",
        "Run the next cell to compute annual income for drivers based on the assumptions listed above."
      ]
    },
    {
      "cell_type": "code",
      "metadata": {
        "id": "HBkbswMSeP8N",
        "colab_type": "code",
        "colab": {}
      },
      "source": [
        "# Compute average annual income as hourly income multiplied by 40 hours per week and 50 weeks per year (assuming two weeks off)\n",
        "annual_income = df['Hourly Income'].mean()*40*50\n",
        "print(f'Average annual income for drivers is: ${annual_income:.2f}')"
      ],
      "execution_count": 0,
      "outputs": []
    },
    {
      "cell_type": "markdown",
      "metadata": {
        "id": "cFyb2kK4nMrD",
        "colab_type": "text"
      },
      "source": [
        "### Questions:\n",
        "1. What is your uncertainty in the number you computed above for estimated annual salary?\n",
        "2. What are the potential sources of error that could be represented in this estimate?"
      ]
    },
    {
      "cell_type": "markdown",
      "metadata": {
        "id": "BNJVr6sGn9F-",
        "colab_type": "text"
      },
      "source": [
        "### 3.2 Compute the Standard Error of the Mean.\n",
        "\n",
        "In this case, you are estimating the average income for drivers based on two weeks of sample data. In other words, you are estimating the average income for the entire annual population of rides based on a relatively small sample, and, if you can assume your sample is unbiased, then the error associated with your estimate is what's known as the standard error of the mean (SEM), which is computed as follows.\n",
        "\n",
        "First, the standard deviation is defined as:\n",
        "$$ \\sigma = \\sqrt{\\frac{\\Sigma(x_i - \\mu)^2}{n}} $$\n",
        "\n",
        "where each $x_i$ is a data value, $\\mu$ is the mean of all values, and $n$ is the number of elements in your sample.\n",
        "\n",
        "The SEM is then: \n",
        "\n",
        "$$SEM = \\frac{\\sigma_{population}}{\\sqrt{n}}$$\n",
        "\n",
        "Where $\\sigma_{population}$ is the standard deviation of the entire population. \n",
        "\n",
        "### Question: \n",
        "1. Do you know the standard deviation of the population?\n",
        "\n",
        "Typically, you do not know the standard deviation of the population (and if you did, you'd probably know the mean too and wouldn't have to be worrying about calculating standard error!). When you don't know the population standard deviation, you can use the standard deviation of your sample as a rough approximation, so the SEM becomes:\n",
        "\n",
        "$$SEM = \\frac{\\sigma_{sample}}{\\sqrt{n}}$$\n",
        "\n",
        "where $\\sigma_{sample}$ is now the sample standard deviation you calculated above. \n",
        "\n",
        "Run the next cell to calculate the SEM for your estimate of annual driver income."
      ]
    },
    {
      "cell_type": "code",
      "metadata": {
        "id": "r0SjhDcdr0em",
        "colab_type": "code",
        "colab": {}
      },
      "source": [
        "# Compute the standard error on average annual income\n",
        "annual_income_sem = df['Hourly Income'].sem()*40*50\n",
        "print(f'Average annual income for drivers is: ${annual_income:.2f} +/- {2*annual_income_sem:.2f}')"
      ],
      "execution_count": 0,
      "outputs": []
    },
    {
      "cell_type": "markdown",
      "metadata": {
        "id": "BVDnpSh6sdO5",
        "colab_type": "text"
      },
      "source": [
        "### Questions:\n",
        "1. What percent confidence is represented by this estimate of SEM for driver income?\n",
        "\n",
        "\n",
        "According to the [central limit theorem](https://en.wikipedia.org/wiki/Central_limit_theorem), the mean values computed from different samples drawn from a population will be normally distributed, and the bigger your sample, the narrower that normal distribution will be (and the smaller SEM confidence interval). \n"
      ]
    },
    {
      "cell_type": "markdown",
      "metadata": {
        "id": "0UeFb5CuVB89",
        "colab_type": "text"
      },
      "source": [
        "### Questions:\n",
        "The central limit theorem requires that the sample you choose to measure the mean and SEM be a random unbiased sample of the entire population.\n",
        "1. What is the 95% confidence interval implied by your measurement of annual driver income reported above?\n",
        "2. Given the requirements of the central limit theorem, would you be comfortable reporting this result with 95% confidence?\n",
        "\n",
        "Run the cell below to read in a larger data set (90k records) that consists of a random sample drawn from November through March and compute annual driver income and SEM."
      ]
    },
    {
      "cell_type": "markdown",
      "metadata": {
        "id": "Ki1NcaiXZ2VF",
        "colab_type": "text"
      },
      "source": [
        "### Gathering more data\n",
        "\n",
        "Run the following cell to make the same hourly income calculation on a much larger data set, this time containing rougly 90k records randomly selected from November to March. "
      ]
    },
    {
      "cell_type": "code",
      "metadata": {
        "id": "MNToRvv21Lky",
        "colab_type": "code",
        "colab": {}
      },
      "source": [
        "# Read in a new dataset of 5,000 randomly selected records\n",
        "url = \"https://raw.githubusercontent.com/pathstream-curriculum/Statistics/master/rideshare_random90k.csv\"\n",
        "df_90k = pd.read_csv(url, parse_dates=['Trip Start Timestamp', 'Trip End Timestamp'])\n",
        "# Compute an hourly income rate per trip and add the column to your dataframe\n",
        "trip_hours_90k = df_90k['Trip Seconds']/3600 # convert seconds to hours\n",
        "df_90k['Hourly Income'] = hourly_fraction*(fare_fraction*df_90k['Fare'] + df_90k['Tip'])/trip_hours_90k\n",
        "# Compute annual driver income and the standard error on average annual income\n",
        "annual_income_90k = df_90k['Hourly Income'].mean()*40*50\n",
        "annual_income_sem_90k = df_90k['Hourly Income'].sem()*40*50\n",
        "print(f'Annual income for drivers is: ${annual_income_90k:.2f} +/- {2*annual_income_sem_90k:.2f} dollars per year (at 95% confidence)')"
      ],
      "execution_count": 0,
      "outputs": []
    },
    {
      "cell_type": "markdown",
      "metadata": {
        "id": "2iwmMbsg0VsO",
        "colab_type": "text"
      },
      "source": [
        "### Questions:\n",
        "1. How does the annual driver income you calculated with the larger sample compare with the estimate you calculated above for the holiday sample?\n",
        "2. What can you say about the statistical agreement or disagreement between the results from the holiday sample and the larger random 90k sample?\n",
        "2. What does this tell you about the two week holiday dataset in terms of being a representative (random, unbiased) sample of the overall population?\n",
        "3. Turning this on its head, what can you now infer with high confidence about driver hourly income over the holidays? What is the z-value associated with this conclusion?"
      ]
    },
    {
      "cell_type": "markdown",
      "metadata": {
        "id": "9j-ui4icsKr-",
        "colab_type": "text"
      },
      "source": [
        "# Congratulations! You've come to the end of this notebook!\n",
        "\n",
        "Great job carrying out this exploratory analysis of the Chicago rideshare dataset. You now have a wealth of insights to present regarding the statistics of rides in Chicago and key metrics that affect drivers. Write up your results along with any supporting figures you would like to use from this notebook or your work in Google sheets. "
      ]
    }
  ]
}